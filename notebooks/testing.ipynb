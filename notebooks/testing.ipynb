{
 "cells": [
  {
   "cell_type": "code",
   "execution_count": 1,
   "id": "acc57a4b",
   "metadata": {},
   "outputs": [
    {
     "data": {
      "text/plain": [
       "'sqlite:///DATA/plm_updated.db'"
      ]
     },
     "execution_count": 1,
     "metadata": {},
     "output_type": "execute_result"
    }
   ],
   "source": [
    "import glob\n",
    "import pandas as pd\n",
    "from dotenv import load_dotenv\n",
    "load_dotenv()\n",
    "import os\n",
    "# folder_path = \"DATA\"\n",
    "# csv_files = glob.glob(folder_path + \"/*.csv\")\n",
    "# print(csv_files)\n",
    "os.environ[\"DB_URL\"]"
   ]
  },
  {
   "cell_type": "code",
   "execution_count": null,
   "id": "5652a728",
   "metadata": {},
   "outputs": [],
   "source": [
    "import os\n",
    "from sqlalchemy import create_engine, inspect\n",
    "ENGINE = create_engine(os.environ[\"DB_URL\"])\n",
    "inspector = inspect(ENGINE)"
   ]
  },
  {
   "cell_type": "code",
   "execution_count": 3,
   "id": "eef1097b",
   "metadata": {},
   "outputs": [
    {
     "name": "stdout",
     "output_type": "stream",
     "text": [
      "RecipeExplosion [{'name': 'CUCSpecCode', 'type': BIGINT(), 'nullable': True, 'default': None, 'primary_key': 0}, {'name': 'CUCRecipeCode', 'type': TEXT(), 'nullable': True, 'default': None, 'primary_key': 0}, {'name': 'CUCMaterialCode', 'type': TEXT(), 'nullable': True, 'default': None, 'primary_key': 0}, {'name': 'CUCPlantCode', 'type': TEXT(), 'nullable': True, 'default': None, 'primary_key': 0}, {'name': 'CUCPlantDescription', 'type': TEXT(), 'nullable': True, 'default': None, 'primary_key': 0}, {'name': 'CUCPlantOwnershipFlag', 'type': TEXT(), 'nullable': True, 'default': None, 'primary_key': 0}, {'name': 'CUCPlantCountryCode', 'type': TEXT(), 'nullable': True, 'default': None, 'primary_key': 0}, {'name': 'CUCPlantCountryName', 'type': TEXT(), 'nullable': True, 'default': None, 'primary_key': 0}, {'name': 'CUCPlantBUCode', 'type': TEXT(), 'nullable': True, 'default': None, 'primary_key': 0}, {'name': 'CUCPlantBUName', 'type': TEXT(), 'nullable': True, 'default': None, 'primary_key': 0}, {'name': 'INGSpecCode', 'type': BIGINT(), 'nullable': True, 'default': None, 'primary_key': 0}, {'name': 'INGMaterialCode', 'type': TEXT(), 'nullable': True, 'default': None, 'primary_key': 0}, {'name': 'INGPlantCode', 'type': TEXT(), 'nullable': True, 'default': None, 'primary_key': 0}, {'name': 'Ing2CUC_PercentageContribution', 'type': FLOAT(), 'nullable': True, 'default': None, 'primary_key': 0}, {'name': 'Ing2CUC_QuantityContribution', 'type': FLOAT(), 'nullable': True, 'default': None, 'primary_key': 0}]\n",
      "Specifications [{'name': 'SpecCode', 'type': BIGINT(), 'nullable': True, 'default': None, 'primary_key': 0}, {'name': 'SpecDescription', 'type': TEXT(), 'nullable': True, 'default': None, 'primary_key': 0}, {'name': 'SpecStatusDescription', 'type': TEXT(), 'nullable': True, 'default': None, 'primary_key': 0}, {'name': 'SpecGroupCode', 'type': TEXT(), 'nullable': True, 'default': None, 'primary_key': 0}, {'name': 'SpecTypeDescription', 'type': TEXT(), 'nullable': True, 'default': None, 'primary_key': 0}, {'name': 'AuthorisationGroupCode', 'type': TEXT(), 'nullable': True, 'default': None, 'primary_key': 0}, {'name': 'SpecTypeCode', 'type': TEXT(), 'nullable': True, 'default': None, 'primary_key': 0}]\n"
     ]
    }
   ],
   "source": [
    "table_names = inspector.get_table_names()\n",
    "for name in table_names:\n",
    "    columns = inspector.get_columns(name)\n",
    "    print(name, columns)"
   ]
  },
  {
   "cell_type": "code",
   "execution_count": 14,
   "id": "df237ba3",
   "metadata": {},
   "outputs": [
    {
     "data": {
      "text/html": [
       "<div>\n",
       "<style scoped>\n",
       "    .dataframe tbody tr th:only-of-type {\n",
       "        vertical-align: middle;\n",
       "    }\n",
       "\n",
       "    .dataframe tbody tr th {\n",
       "        vertical-align: top;\n",
       "    }\n",
       "\n",
       "    .dataframe thead th {\n",
       "        text-align: right;\n",
       "    }\n",
       "</style>\n",
       "<table border=\"1\" class=\"dataframe\">\n",
       "  <thead>\n",
       "    <tr style=\"text-align: right;\">\n",
       "      <th></th>\n",
       "      <th>CUCSpecCode</th>\n",
       "      <th>CUCRecipeCode</th>\n",
       "      <th>CUCMaterialCode</th>\n",
       "      <th>CUCPlantCode</th>\n",
       "      <th>CUCPlantDescription</th>\n",
       "      <th>CUCPlantOwnershipFlag</th>\n",
       "      <th>CUCPlantCountryCode</th>\n",
       "      <th>CUCPlantCountryName</th>\n",
       "      <th>CUCPlantBUCode</th>\n",
       "      <th>CUCPlantBUName</th>\n",
       "      <th>INGSpecCode</th>\n",
       "      <th>INGMaterialCode</th>\n",
       "      <th>INGPlantCode</th>\n",
       "      <th>Ing2CUC_PercentageContribution</th>\n",
       "      <th>Ing2CUC_QuantityContribution</th>\n",
       "    </tr>\n",
       "  </thead>\n",
       "  <tbody>\n",
       "    <tr>\n",
       "      <th>0</th>\n",
       "      <td>200000082485</td>\n",
       "      <td>200000082485/002/003</td>\n",
       "      <td>9144595_S</td>\n",
       "      <td>A852</td>\n",
       "      <td>IT Caivano</td>\n",
       "      <td>UL</td>\n",
       "      <td>IT</td>\n",
       "      <td>Italy</td>\n",
       "      <td>EU</td>\n",
       "      <td>Europe</td>\n",
       "      <td>100000066661</td>\n",
       "      <td>376054_S</td>\n",
       "      <td>A852</td>\n",
       "      <td>0.000110</td>\n",
       "      <td>0.001100</td>\n",
       "    </tr>\n",
       "    <tr>\n",
       "      <th>1</th>\n",
       "      <td>200000251809</td>\n",
       "      <td>200000251809/006/001</td>\n",
       "      <td>68640589_F</td>\n",
       "      <td>UTE</td>\n",
       "      <td>HUL-NESA PP (Oral)</td>\n",
       "      <td>UL</td>\n",
       "      <td>IN</td>\n",
       "      <td>India</td>\n",
       "      <td>SA</td>\n",
       "      <td>South Asia</td>\n",
       "      <td>100000043581</td>\n",
       "      <td>11060121_F</td>\n",
       "      <td>UTE</td>\n",
       "      <td>2.000000</td>\n",
       "      <td>2000.000000</td>\n",
       "    </tr>\n",
       "    <tr>\n",
       "      <th>2</th>\n",
       "      <td>200000094250</td>\n",
       "      <td>200000094250/002/000</td>\n",
       "      <td>8736480_S</td>\n",
       "      <td>A976</td>\n",
       "      <td>UBF-CH-SU Thayngen</td>\n",
       "      <td>UL</td>\n",
       "      <td>CH</td>\n",
       "      <td>Switzerland</td>\n",
       "      <td>EU</td>\n",
       "      <td>Europe</td>\n",
       "      <td>100000083120</td>\n",
       "      <td>3711914_S</td>\n",
       "      <td>A502</td>\n",
       "      <td>2.425476</td>\n",
       "      <td>0.436586</td>\n",
       "    </tr>\n",
       "    <tr>\n",
       "      <th>3</th>\n",
       "      <td>200000007387</td>\n",
       "      <td>200000007387/002/001</td>\n",
       "      <td>20231424_U</td>\n",
       "      <td>7001</td>\n",
       "      <td>Minburi HPC</td>\n",
       "      <td>UL</td>\n",
       "      <td>TH</td>\n",
       "      <td>Thailand</td>\n",
       "      <td>GCEA</td>\n",
       "      <td>GCEA</td>\n",
       "      <td>100000005644</td>\n",
       "      <td>66810211_U</td>\n",
       "      <td>7001</td>\n",
       "      <td>4.348000</td>\n",
       "      <td>43.480000</td>\n",
       "    </tr>\n",
       "    <tr>\n",
       "      <th>4</th>\n",
       "      <td>200000088676</td>\n",
       "      <td>200000088676/002/003</td>\n",
       "      <td>67143582_C</td>\n",
       "      <td>3165</td>\n",
       "      <td>UBI Fca Suape HC</td>\n",
       "      <td>UL</td>\n",
       "      <td>BR</td>\n",
       "      <td>Brazil</td>\n",
       "      <td>LATAM</td>\n",
       "      <td>Latin America</td>\n",
       "      <td>100000012619</td>\n",
       "      <td>563546_C</td>\n",
       "      <td>3165</td>\n",
       "      <td>0.010000</td>\n",
       "      <td>0.100000</td>\n",
       "    </tr>\n",
       "  </tbody>\n",
       "</table>\n",
       "</div>"
      ],
      "text/plain": [
       "    CUCSpecCode         CUCRecipeCode CUCMaterialCode CUCPlantCode  \\\n",
       "0  200000082485  200000082485/002/003       9144595_S         A852   \n",
       "1  200000251809  200000251809/006/001      68640589_F          UTE   \n",
       "2  200000094250  200000094250/002/000       8736480_S         A976   \n",
       "3  200000007387  200000007387/002/001      20231424_U         7001   \n",
       "4  200000088676  200000088676/002/003      67143582_C         3165   \n",
       "\n",
       "  CUCPlantDescription CUCPlantOwnershipFlag CUCPlantCountryCode  \\\n",
       "0          IT Caivano                    UL                  IT   \n",
       "1  HUL-NESA PP (Oral)                    UL                  IN   \n",
       "2  UBF-CH-SU Thayngen                    UL                  CH   \n",
       "3         Minburi HPC                    UL                  TH   \n",
       "4    UBI Fca Suape HC                    UL                  BR   \n",
       "\n",
       "  CUCPlantCountryName CUCPlantBUCode CUCPlantBUName   INGSpecCode  \\\n",
       "0               Italy             EU         Europe  100000066661   \n",
       "1               India             SA     South Asia  100000043581   \n",
       "2         Switzerland             EU         Europe  100000083120   \n",
       "3            Thailand           GCEA           GCEA  100000005644   \n",
       "4              Brazil          LATAM  Latin America  100000012619   \n",
       "\n",
       "  INGMaterialCode INGPlantCode  Ing2CUC_PercentageContribution  \\\n",
       "0        376054_S         A852                        0.000110   \n",
       "1      11060121_F          UTE                        2.000000   \n",
       "2       3711914_S         A502                        2.425476   \n",
       "3      66810211_U         7001                        4.348000   \n",
       "4        563546_C         3165                        0.010000   \n",
       "\n",
       "   Ing2CUC_QuantityContribution  \n",
       "0                      0.001100  \n",
       "1                   2000.000000  \n",
       "2                      0.436586  \n",
       "3                     43.480000  \n",
       "4                      0.100000  "
      ]
     },
     "execution_count": 14,
     "metadata": {},
     "output_type": "execute_result"
    }
   ],
   "source": [
    "import pandas as pd\n",
    "query = \"\"\"SELECT * FROM RecipeExplosion LIMIT 5\"\"\"\n",
    "df = pd.read_sql_query(query, ENGINE)\n",
    "# print(df)\n",
    "df"
   ]
  },
  {
   "cell_type": "code",
   "execution_count": 44,
   "id": "fc862c69",
   "metadata": {},
   "outputs": [
    {
     "name": "stdout",
     "output_type": "stream",
     "text": [
      "                                     SpecDescription\n",
      "0    Acrylates/Steareth-20 Methacrylate Crosspolymer\n",
      "1    Acrylates/Steareth-20 Methacrylate Crosspolymer\n",
      "2    Acrylates/Steareth-20 Methacrylate Crosspolymer\n",
      "3    Acrylates/Steareth-20 Methacrylate Crosspolymer\n",
      "4    Acrylates/Steareth-20 Methacrylate Crosspolymer\n",
      "..                                               ...\n",
      "195                         Tea Black Leaf Blend 425\n",
      "196                         Tea Black Leaf Blend 425\n",
      "197                         Tea Black Leaf Blend 425\n",
      "198                         Tea Black Leaf Blend 425\n",
      "199                         Tea Black Leaf Blend 425\n",
      "\n",
      "[200 rows x 1 columns]\n"
     ]
    }
   ],
   "source": [
    "import pandas as pd\n",
    "#Total rows 8812\n",
    "# ING    6605\n",
    "# CUC    2207\n",
    "query = f\"\"\"SELECT s.specdescription\n",
    "FROM   recipeexplosion re\n",
    "       JOIN specifications s\n",
    "         ON re.ingspeccode = s.speccode\n",
    "WHERE  Upper(s.specdescription) LIKE Upper('%TEA%')\n",
    "LIMIT  200;\"\"\"\n",
    "df = pd.read_sql_query(query, ENGINE)\n",
    "# df\n",
    "print(df)"
   ]
  },
  {
   "cell_type": "code",
   "execution_count": 29,
   "id": "08d5e89e",
   "metadata": {},
   "outputs": [
    {
     "data": {
      "text/plain": [
       "Index(['SpecCode', 'SpecDescription', 'SpecStatusDescription', 'SpecGroupCode',\n",
       "       'SpecTypeDescription', 'AuthorisationGroupCode', 'SpecTypeCode'],\n",
       "      dtype='object')"
      ]
     },
     "execution_count": 29,
     "metadata": {},
     "output_type": "execute_result"
    }
   ],
   "source": [
    "df.columns"
   ]
  },
  {
   "cell_type": "code",
   "execution_count": null,
   "id": "b9c93941",
   "metadata": {},
   "outputs": [],
   "source": [
    "recp_explo_file = \"DATA\\\\RecipeExplosionForLLM_20250731_v2.csv\"\n",
    "spec_file = \"DATA\\\\SpecsForLLM_20250731_v2.csv\"\n",
    "df_spec = pd.read_csv(spec_file)\n",
    "df_spec = df_spec[df_spec['SpecCode'].astype(str).str.match(r'^\\d+$')]\n",
    "dtype_mapping = {\n",
    "    'SpecCode': 'int64' \n",
    "}\n",
    "df_spec = df_spec.astype(dtype_mapping)"
   ]
  },
  {
   "cell_type": "code",
   "execution_count": 117,
   "id": "f08db45f",
   "metadata": {},
   "outputs": [
    {
     "data": {
      "text/plain": [
       "Index(['SpecCode', 'SpecDescription', 'SpecStatusDescription', 'SpecGroupCode',\n",
       "       'SpecTypeDescription', 'AuthorisationGroupCode', 'SpecTypeCode'],\n",
       "      dtype='object')"
      ]
     },
     "execution_count": 117,
     "metadata": {},
     "output_type": "execute_result"
    }
   ],
   "source": [
    "df_spec.columns"
   ]
  },
  {
   "cell_type": "code",
   "execution_count": 121,
   "id": "1c24cb33",
   "metadata": {},
   "outputs": [
    {
     "name": "stdout",
     "output_type": "stream",
     "text": [
      "8812\n"
     ]
    },
    {
     "data": {
      "text/plain": [
       "SpecCode                   int64\n",
       "SpecDescription           object\n",
       "SpecStatusDescription     object\n",
       "SpecGroupCode             object\n",
       "SpecTypeDescription       object\n",
       "AuthorisationGroupCode    object\n",
       "SpecTypeCode              object\n",
       "dtype: object"
      ]
     },
     "execution_count": 121,
     "metadata": {},
     "output_type": "execute_result"
    }
   ],
   "source": [
    "len(df_spec)\n",
    "valid_spec_codes = df[\"SpecCode\"]\n",
    "_is_valid = df_spec['SpecCode'].isin(valid_spec_codes)\n",
    "df_spec = df_spec[_is_valid].reset_index(drop=True)\n",
    "print(len(df_spec))\n",
    "df_spec.dtypes"
   ]
  },
  {
   "cell_type": "code",
   "execution_count": null,
   "id": "ff842498",
   "metadata": {},
   "outputs": [],
   "source": [
    "df_spec.to_csv(\"DATA\\\\SpecsForLLM_20250802.csv\", index=False)"
   ]
  },
  {
   "cell_type": "code",
   "execution_count": 107,
   "id": "f1be5740",
   "metadata": {},
   "outputs": [
    {
     "name": "stderr",
     "output_type": "stream",
     "text": [
      "C:\\Users\\ShyamSunderIyer\\AppData\\Local\\Temp\\ipykernel_32468\\3099180847.py:1: DtypeWarning: Columns (0) have mixed types. Specify dtype option on import or set low_memory=False.\n",
      "  df_explo =  pd.read_csv(recp_explo_file)\n"
     ]
    },
    {
     "data": {
      "text/plain": [
       "CUCSpecCode                        object\n",
       "CUCRecipeCode                      object\n",
       "CUCMaterialCode                    object\n",
       "CUCPlantCode                       object\n",
       "CUCPlantDescription                object\n",
       "CUCPlantOwnershipFlag              object\n",
       "CUCPlantCountryCode                object\n",
       "CUCPlantCountryName                object\n",
       "CUCPlantBUCode                     object\n",
       "CUCPlantBUName                     object\n",
       "INGSpecCode                        object\n",
       "INGMaterialCode                    object\n",
       "INGPlantCode                       object\n",
       "Ing2CUC_PercentageContribution    float64\n",
       "Ing2CUC_QuantityContribution      float64\n",
       "dtype: object"
      ]
     },
     "execution_count": 107,
     "metadata": {},
     "output_type": "execute_result"
    }
   ],
   "source": [
    "df_explo =  pd.read_csv(recp_explo_file)\n",
    "columns_to_remove = ['DUSpecCode', 'DURecipeCode', 'DUMaterialCode', 'DUPlantCode', 'DUPlantDescription', 'DUPlantOwnershipFlag', 'DUPlantCountryCode',\n",
    "       'DUPlantCountryName', 'DUPlantBUCode', 'DUPlantBUName', 'ExplosionRecipePathValue', 'ExplosionSpecPathValue', 'ExplosionMaterialPathValue']\n",
    "df_explo_new = df_explo.drop(columns=columns_to_remove)\n",
    "dtype_mapping = {\n",
    "    'CUCSpecCode': 'str',\n",
    "    'INGSpecCode': 'str' \n",
    "}\n",
    "df_explo_new = df_explo_new.astype(dtype_mapping)\n",
    "df_explo_new.dtypes"
   ]
  },
  {
   "cell_type": "code",
   "execution_count": null,
   "id": "4ae77f62",
   "metadata": {},
   "outputs": [],
   "source": [
    "filtered_df_spec = df_spec[df_spec['SpecCode'].isin(df[\"SpecCode\"])].reset_index(drop=True)\n"
   ]
  },
  {
   "cell_type": "code",
   "execution_count": null,
   "id": "8d3381c5",
   "metadata": {},
   "outputs": [],
   "source": [
    "dtype_mapping = {\n",
    "    'SpecCode': 'int64',\n",
    "    'SpecDescription': 'str',\n",
    "    'SpecStatusDescription': 'str',\n",
    "    'SpecGroupCode': 'str',\n",
    "    'SpecTypeDescription': 'str',\n",
    "    'AuthorisationGroupCode': 'str',\n",
    "    'SpecTypeCode': 'str' \n",
    "}\n",
    "filtered_df_spec = filtered_df_spec.astype(dtype_mapping)\n",
    "filtered_df_spec.to_csv(\"DATA\\\\SpecsForLLM_20250802.csv\", index=False)"
   ]
  },
  {
   "cell_type": "code",
   "execution_count": 57,
   "id": "861d10f6",
   "metadata": {},
   "outputs": [],
   "source": [
    "dtype_mapping = {\n",
    "    'SpecCode': 'int64',\n",
    "    'SpecDescription': 'str',\n",
    "    'SpecStatusDescription': 'str',\n",
    "    'SpecGroupCode': 'str',\n",
    "    'SpecTypeDescription': 'str',\n",
    "    'AuthorisationGroupCode': 'str',\n",
    "    'SpecTypeCode': 'str' \n",
    "}\n",
    "filtered_df_spec = filtered_df_spec.astype(dtype_mapping)\n",
    "# filtered_df_spec_converted.info()"
   ]
  },
  {
   "cell_type": "code",
   "execution_count": 100,
   "id": "f76892c4",
   "metadata": {},
   "outputs": [
    {
     "name": "stdout",
     "output_type": "stream",
     "text": [
      "<class 'pandas.core.frame.DataFrame'>\n",
      "RangeIndex: 8812 entries, 0 to 8811\n",
      "Data columns (total 7 columns):\n",
      " #   Column                  Non-Null Count  Dtype \n",
      "---  ------                  --------------  ----- \n",
      " 0   SpecCode                8812 non-null   int64 \n",
      " 1   SpecDescription         8812 non-null   object\n",
      " 2   SpecStatusDescription   8812 non-null   object\n",
      " 3   SpecGroupCode           8812 non-null   object\n",
      " 4   SpecTypeDescription     8812 non-null   object\n",
      " 5   AuthorisationGroupCode  8812 non-null   object\n",
      " 6   SpecTypeCode            8812 non-null   object\n",
      "dtypes: int64(1), object(6)\n",
      "memory usage: 482.0+ KB\n"
     ]
    }
   ],
   "source": [
    "filtered_df_spec.info()"
   ]
  },
  {
   "cell_type": "code",
   "execution_count": 38,
   "id": "67496b5b",
   "metadata": {},
   "outputs": [
    {
     "data": {
      "text/plain": [
       "Index(['DUSpecCode', 'DURecipeCode', 'DUMaterialCode', 'DUPlantCode',\n",
       "       'DUPlantDescription', 'DUPlantOwnershipFlag', 'DUPlantCountryCode',\n",
       "       'DUPlantCountryName', 'DUPlantBUCode', 'DUPlantBUName', 'CUCSpecCode',\n",
       "       'CUCRecipeCode', 'CUCMaterialCode', 'CUCPlantCode',\n",
       "       'CUCPlantDescription', 'CUCPlantOwnershipFlag', 'CUCPlantCountryCode',\n",
       "       'CUCPlantCountryName', 'CUCPlantBUCode', 'CUCPlantBUName',\n",
       "       'INGSpecCode', 'INGMaterialCode', 'INGPlantCode',\n",
       "       'Ing2CUC_PercentageContribution', 'Ing2CUC_QuantityContribution',\n",
       "       'ExplosionRecipePathValue', 'ExplosionSpecPathValue',\n",
       "       'ExplosionMaterialPathValue'],\n",
       "      dtype='object')"
      ]
     },
     "execution_count": 38,
     "metadata": {},
     "output_type": "execute_result"
    }
   ],
   "source": [
    "df_explo.columns"
   ]
  },
  {
   "cell_type": "code",
   "execution_count": 40,
   "id": "9765b9ad",
   "metadata": {},
   "outputs": [
    {
     "data": {
      "text/html": [
       "<div>\n",
       "<style scoped>\n",
       "    .dataframe tbody tr th:only-of-type {\n",
       "        vertical-align: middle;\n",
       "    }\n",
       "\n",
       "    .dataframe tbody tr th {\n",
       "        vertical-align: top;\n",
       "    }\n",
       "\n",
       "    .dataframe thead th {\n",
       "        text-align: right;\n",
       "    }\n",
       "</style>\n",
       "<table border=\"1\" class=\"dataframe\">\n",
       "  <thead>\n",
       "    <tr style=\"text-align: right;\">\n",
       "      <th></th>\n",
       "      <th>CUCSpecCode</th>\n",
       "      <th>CUCRecipeCode</th>\n",
       "      <th>CUCMaterialCode</th>\n",
       "      <th>CUCPlantCode</th>\n",
       "      <th>CUCPlantDescription</th>\n",
       "      <th>CUCPlantOwnershipFlag</th>\n",
       "      <th>CUCPlantCountryCode</th>\n",
       "      <th>CUCPlantCountryName</th>\n",
       "      <th>CUCPlantBUCode</th>\n",
       "      <th>CUCPlantBUName</th>\n",
       "      <th>INGSpecCode</th>\n",
       "      <th>INGMaterialCode</th>\n",
       "      <th>INGPlantCode</th>\n",
       "      <th>Ing2CUC_PercentageContribution</th>\n",
       "      <th>Ing2CUC_QuantityContribution</th>\n",
       "    </tr>\n",
       "  </thead>\n",
       "  <tbody>\n",
       "    <tr>\n",
       "      <th>0</th>\n",
       "      <td>200000240332</td>\n",
       "      <td>200000240332/001/002</td>\n",
       "      <td>68276743_C</td>\n",
       "      <td>3614</td>\n",
       "      <td>Cuernavaca HPC 3614</td>\n",
       "      <td>UL</td>\n",
       "      <td>MX</td>\n",
       "      <td>Mexico</td>\n",
       "      <td>LATAM</td>\n",
       "      <td>Latin America</td>\n",
       "      <td>100000010048</td>\n",
       "      <td>935180_C</td>\n",
       "      <td>3614</td>\n",
       "      <td>0.31000</td>\n",
       "      <td>3.1000</td>\n",
       "    </tr>\n",
       "    <tr>\n",
       "      <th>1</th>\n",
       "      <td>200000139049</td>\n",
       "      <td>200000139049/011/001</td>\n",
       "      <td>20212770_U</td>\n",
       "      <td>8005</td>\n",
       "      <td>Conghua Foods</td>\n",
       "      <td>UL</td>\n",
       "      <td>CN</td>\n",
       "      <td>China</td>\n",
       "      <td>GCEA</td>\n",
       "      <td>GCEA</td>\n",
       "      <td>100000038019</td>\n",
       "      <td>63131312_U</td>\n",
       "      <td>8005</td>\n",
       "      <td>18.00000</td>\n",
       "      <td>72.0000</td>\n",
       "    </tr>\n",
       "    <tr>\n",
       "      <th>2</th>\n",
       "      <td>200000251449</td>\n",
       "      <td>200000251449/003/001</td>\n",
       "      <td>62678319_C</td>\n",
       "      <td>3087</td>\n",
       "      <td>Cochabamba</td>\n",
       "      <td>UL</td>\n",
       "      <td>BO</td>\n",
       "      <td>Bolivia</td>\n",
       "      <td>LATAM</td>\n",
       "      <td>Latin America</td>\n",
       "      <td>100000001064</td>\n",
       "      <td>956683_C</td>\n",
       "      <td>3087</td>\n",
       "      <td>0.10000</td>\n",
       "      <td>100.0000</td>\n",
       "    </tr>\n",
       "    <tr>\n",
       "      <th>3</th>\n",
       "      <td>200000082485</td>\n",
       "      <td>200000082485/002/003</td>\n",
       "      <td>9144595_S</td>\n",
       "      <td>A852</td>\n",
       "      <td>IT Caivano</td>\n",
       "      <td>UL</td>\n",
       "      <td>IT</td>\n",
       "      <td>Italy</td>\n",
       "      <td>EU</td>\n",
       "      <td>Europe</td>\n",
       "      <td>100000066661</td>\n",
       "      <td>376054_S</td>\n",
       "      <td>A852</td>\n",
       "      <td>0.00011</td>\n",
       "      <td>0.0011</td>\n",
       "    </tr>\n",
       "    <tr>\n",
       "      <th>4</th>\n",
       "      <td>200000272665</td>\n",
       "      <td>200000272665/006/000</td>\n",
       "      <td>69990242_U</td>\n",
       "      <td>9003</td>\n",
       "      <td>Cikarang Skin</td>\n",
       "      <td>UL</td>\n",
       "      <td>ID</td>\n",
       "      <td>Indonesia</td>\n",
       "      <td>GCEA</td>\n",
       "      <td>GCEA</td>\n",
       "      <td>100000001437</td>\n",
       "      <td>67701482_U</td>\n",
       "      <td>9003</td>\n",
       "      <td>0.04320</td>\n",
       "      <td>0.4320</td>\n",
       "    </tr>\n",
       "  </tbody>\n",
       "</table>\n",
       "</div>"
      ],
      "text/plain": [
       "    CUCSpecCode         CUCRecipeCode CUCMaterialCode CUCPlantCode  \\\n",
       "0  200000240332  200000240332/001/002      68276743_C         3614   \n",
       "1  200000139049  200000139049/011/001      20212770_U         8005   \n",
       "2  200000251449  200000251449/003/001      62678319_C         3087   \n",
       "3  200000082485  200000082485/002/003       9144595_S         A852   \n",
       "4  200000272665  200000272665/006/000      69990242_U         9003   \n",
       "\n",
       "   CUCPlantDescription CUCPlantOwnershipFlag CUCPlantCountryCode  \\\n",
       "0  Cuernavaca HPC 3614                    UL                  MX   \n",
       "1        Conghua Foods                    UL                  CN   \n",
       "2           Cochabamba                    UL                  BO   \n",
       "3           IT Caivano                    UL                  IT   \n",
       "4        Cikarang Skin                    UL                  ID   \n",
       "\n",
       "  CUCPlantCountryName CUCPlantBUCode CUCPlantBUName   INGSpecCode  \\\n",
       "0              Mexico          LATAM  Latin America  100000010048   \n",
       "1               China           GCEA           GCEA  100000038019   \n",
       "2             Bolivia          LATAM  Latin America  100000001064   \n",
       "3               Italy             EU         Europe  100000066661   \n",
       "4           Indonesia           GCEA           GCEA  100000001437   \n",
       "\n",
       "  INGMaterialCode INGPlantCode  Ing2CUC_PercentageContribution  \\\n",
       "0        935180_C         3614                         0.31000   \n",
       "1      63131312_U         8005                        18.00000   \n",
       "2        956683_C         3087                         0.10000   \n",
       "3        376054_S         A852                         0.00011   \n",
       "4      67701482_U         9003                         0.04320   \n",
       "\n",
       "   Ing2CUC_QuantityContribution  \n",
       "0                        3.1000  \n",
       "1                       72.0000  \n",
       "2                      100.0000  \n",
       "3                        0.0011  \n",
       "4                        0.4320  "
      ]
     },
     "execution_count": 40,
     "metadata": {},
     "output_type": "execute_result"
    }
   ],
   "source": [
    "columns_to_remove = ['DUSpecCode', 'DURecipeCode', 'DUMaterialCode', 'DUPlantCode', 'DUPlantDescription', 'DUPlantOwnershipFlag', 'DUPlantCountryCode',\n",
    "       'DUPlantCountryName', 'DUPlantBUCode', 'DUPlantBUName', 'ExplosionRecipePathValue', 'ExplosionSpecPathValue', 'ExplosionMaterialPathValue']\n",
    "df_explo_new = df_explo.drop(columns=columns_to_remove)\n",
    "df_explo_new.head()"
   ]
  },
  {
   "cell_type": "code",
   "execution_count": 99,
   "id": "62f30478",
   "metadata": {},
   "outputs": [
    {
     "data": {
      "text/plain": [
       "CUCSpecCode                         int64\n",
       "CUCRecipeCode                      object\n",
       "CUCMaterialCode                    object\n",
       "CUCPlantCode                       object\n",
       "CUCPlantDescription                object\n",
       "CUCPlantOwnershipFlag              object\n",
       "CUCPlantCountryCode                object\n",
       "CUCPlantCountryName                object\n",
       "CUCPlantBUCode                     object\n",
       "CUCPlantBUName                     object\n",
       "INGSpecCode                         int64\n",
       "INGMaterialCode                    object\n",
       "INGPlantCode                       object\n",
       "Ing2CUC_PercentageContribution    float64\n",
       "Ing2CUC_QuantityContribution      float64\n",
       "dtype: object"
      ]
     },
     "execution_count": 99,
     "metadata": {},
     "output_type": "execute_result"
    }
   ],
   "source": [
    "# len(df_explo_new.CUCSpecCode.unique()), len(df_explo_new.INGSpecCode.unique())\n",
    "df_explo_new.dtypes"
   ]
  },
  {
   "cell_type": "code",
   "execution_count": 63,
   "id": "78bf6c35",
   "metadata": {},
   "outputs": [
    {
     "data": {
      "text/plain": [
       "1000000"
      ]
     },
     "execution_count": 63,
     "metadata": {},
     "output_type": "execute_result"
    }
   ],
   "source": [
    "# len(set(filtered_df_spec.SpecCode)) == len(filtered_df_spec.SpecCode)\n",
    "# len(set(df_explo_new.INGSpecCode))\n",
    "len(df_explo_new)\n"
   ]
  },
  {
   "cell_type": "code",
   "execution_count": 66,
   "id": "862732b7",
   "metadata": {},
   "outputs": [
    {
     "data": {
      "text/plain": [
       "6578"
      ]
     },
     "execution_count": 66,
     "metadata": {},
     "output_type": "execute_result"
    }
   ],
   "source": [
    "len(set(filtered_df_spec.SpecCode).intersection(set(df_explo_new.INGSpecCode))) #6578 2205"
   ]
  },
  {
   "cell_type": "code",
   "execution_count": 68,
   "id": "a47e5dd7",
   "metadata": {},
   "outputs": [],
   "source": [
    "valid_spec_codes = filtered_df_spec['SpecCode']\n",
    "cuc_is_valid = df_explo_new['CUCSpecCode'].isin(valid_spec_codes)\n",
    "ing_is_valid = df_explo_new['INGSpecCode'].isin(valid_spec_codes)\n",
    "combined_mask = cuc_is_valid & ing_is_valid\n",
    "df_explo_filtered = df_explo_new[combined_mask]\n",
    "df_explo_filtered = df_explo_filtered.reset_index(drop=True)"
   ]
  },
  {
   "cell_type": "code",
   "execution_count": 70,
   "id": "17fcec5d",
   "metadata": {},
   "outputs": [
    {
     "data": {
      "text/html": [
       "<div>\n",
       "<style scoped>\n",
       "    .dataframe tbody tr th:only-of-type {\n",
       "        vertical-align: middle;\n",
       "    }\n",
       "\n",
       "    .dataframe tbody tr th {\n",
       "        vertical-align: top;\n",
       "    }\n",
       "\n",
       "    .dataframe thead th {\n",
       "        text-align: right;\n",
       "    }\n",
       "</style>\n",
       "<table border=\"1\" class=\"dataframe\">\n",
       "  <thead>\n",
       "    <tr style=\"text-align: right;\">\n",
       "      <th></th>\n",
       "      <th>CUCSpecCode</th>\n",
       "      <th>CUCRecipeCode</th>\n",
       "      <th>CUCMaterialCode</th>\n",
       "      <th>CUCPlantCode</th>\n",
       "      <th>CUCPlantDescription</th>\n",
       "      <th>CUCPlantOwnershipFlag</th>\n",
       "      <th>CUCPlantCountryCode</th>\n",
       "      <th>CUCPlantCountryName</th>\n",
       "      <th>CUCPlantBUCode</th>\n",
       "      <th>CUCPlantBUName</th>\n",
       "      <th>INGSpecCode</th>\n",
       "      <th>INGMaterialCode</th>\n",
       "      <th>INGPlantCode</th>\n",
       "      <th>Ing2CUC_PercentageContribution</th>\n",
       "      <th>Ing2CUC_QuantityContribution</th>\n",
       "    </tr>\n",
       "  </thead>\n",
       "  <tbody>\n",
       "    <tr>\n",
       "      <th>0</th>\n",
       "      <td>200000082485</td>\n",
       "      <td>200000082485/002/003</td>\n",
       "      <td>9144595_S</td>\n",
       "      <td>A852</td>\n",
       "      <td>IT Caivano</td>\n",
       "      <td>UL</td>\n",
       "      <td>IT</td>\n",
       "      <td>Italy</td>\n",
       "      <td>EU</td>\n",
       "      <td>Europe</td>\n",
       "      <td>100000066661</td>\n",
       "      <td>376054_S</td>\n",
       "      <td>A852</td>\n",
       "      <td>0.000110</td>\n",
       "      <td>0.001100</td>\n",
       "    </tr>\n",
       "    <tr>\n",
       "      <th>1</th>\n",
       "      <td>200000251809</td>\n",
       "      <td>200000251809/006/001</td>\n",
       "      <td>68640589_F</td>\n",
       "      <td>UTE</td>\n",
       "      <td>HUL-NESA PP (Oral)</td>\n",
       "      <td>UL</td>\n",
       "      <td>IN</td>\n",
       "      <td>India</td>\n",
       "      <td>SA</td>\n",
       "      <td>South Asia</td>\n",
       "      <td>100000043581</td>\n",
       "      <td>11060121_F</td>\n",
       "      <td>UTE</td>\n",
       "      <td>2.000000</td>\n",
       "      <td>2000.000000</td>\n",
       "    </tr>\n",
       "    <tr>\n",
       "      <th>2</th>\n",
       "      <td>200000094250</td>\n",
       "      <td>200000094250/002/000</td>\n",
       "      <td>8736480_S</td>\n",
       "      <td>A976</td>\n",
       "      <td>UBF-CH-SU Thayngen</td>\n",
       "      <td>UL</td>\n",
       "      <td>CH</td>\n",
       "      <td>Switzerland</td>\n",
       "      <td>EU</td>\n",
       "      <td>Europe</td>\n",
       "      <td>100000083120</td>\n",
       "      <td>3711914_S</td>\n",
       "      <td>A502</td>\n",
       "      <td>2.425476</td>\n",
       "      <td>0.436586</td>\n",
       "    </tr>\n",
       "    <tr>\n",
       "      <th>3</th>\n",
       "      <td>200000007387</td>\n",
       "      <td>200000007387/002/001</td>\n",
       "      <td>20231424_U</td>\n",
       "      <td>7001</td>\n",
       "      <td>Minburi HPC</td>\n",
       "      <td>UL</td>\n",
       "      <td>TH</td>\n",
       "      <td>Thailand</td>\n",
       "      <td>GCEA</td>\n",
       "      <td>GCEA</td>\n",
       "      <td>100000005644</td>\n",
       "      <td>66810211_U</td>\n",
       "      <td>7001</td>\n",
       "      <td>4.348000</td>\n",
       "      <td>43.480000</td>\n",
       "    </tr>\n",
       "    <tr>\n",
       "      <th>4</th>\n",
       "      <td>200000088676</td>\n",
       "      <td>200000088676/002/003</td>\n",
       "      <td>67143582_C</td>\n",
       "      <td>3165</td>\n",
       "      <td>UBI Fca Suape HC</td>\n",
       "      <td>UL</td>\n",
       "      <td>BR</td>\n",
       "      <td>Brazil</td>\n",
       "      <td>LATAM</td>\n",
       "      <td>Latin America</td>\n",
       "      <td>100000012619</td>\n",
       "      <td>563546_C</td>\n",
       "      <td>3165</td>\n",
       "      <td>0.010000</td>\n",
       "      <td>0.100000</td>\n",
       "    </tr>\n",
       "  </tbody>\n",
       "</table>\n",
       "</div>"
      ],
      "text/plain": [
       "    CUCSpecCode         CUCRecipeCode CUCMaterialCode CUCPlantCode  \\\n",
       "0  200000082485  200000082485/002/003       9144595_S         A852   \n",
       "1  200000251809  200000251809/006/001      68640589_F          UTE   \n",
       "2  200000094250  200000094250/002/000       8736480_S         A976   \n",
       "3  200000007387  200000007387/002/001      20231424_U         7001   \n",
       "4  200000088676  200000088676/002/003      67143582_C         3165   \n",
       "\n",
       "  CUCPlantDescription CUCPlantOwnershipFlag CUCPlantCountryCode  \\\n",
       "0          IT Caivano                    UL                  IT   \n",
       "1  HUL-NESA PP (Oral)                    UL                  IN   \n",
       "2  UBF-CH-SU Thayngen                    UL                  CH   \n",
       "3         Minburi HPC                    UL                  TH   \n",
       "4    UBI Fca Suape HC                    UL                  BR   \n",
       "\n",
       "  CUCPlantCountryName CUCPlantBUCode CUCPlantBUName   INGSpecCode  \\\n",
       "0               Italy             EU         Europe  100000066661   \n",
       "1               India             SA     South Asia  100000043581   \n",
       "2         Switzerland             EU         Europe  100000083120   \n",
       "3            Thailand           GCEA           GCEA  100000005644   \n",
       "4              Brazil          LATAM  Latin America  100000012619   \n",
       "\n",
       "  INGMaterialCode INGPlantCode  Ing2CUC_PercentageContribution  \\\n",
       "0        376054_S         A852                        0.000110   \n",
       "1      11060121_F          UTE                        2.000000   \n",
       "2       3711914_S         A502                        2.425476   \n",
       "3      66810211_U         7001                        4.348000   \n",
       "4        563546_C         3165                        0.010000   \n",
       "\n",
       "   Ing2CUC_QuantityContribution  \n",
       "0                      0.001100  \n",
       "1                   2000.000000  \n",
       "2                      0.436586  \n",
       "3                     43.480000  \n",
       "4                      0.100000  "
      ]
     },
     "execution_count": 70,
     "metadata": {},
     "output_type": "execute_result"
    }
   ],
   "source": [
    "df_explo_filtered.head()"
   ]
  },
  {
   "cell_type": "code",
   "execution_count": 79,
   "id": "f7f6c475",
   "metadata": {},
   "outputs": [
    {
     "name": "stdout",
     "output_type": "stream",
     "text": [
      "<class 'pandas.core.frame.DataFrame'>\n",
      "RangeIndex: 8812 entries, 0 to 8811\n",
      "Data columns (total 7 columns):\n",
      " #   Column                  Non-Null Count  Dtype \n",
      "---  ------                  --------------  ----- \n",
      " 0   SpecCode                8812 non-null   int64 \n",
      " 1   SpecDescription         8812 non-null   object\n",
      " 2   SpecStatusDescription   8812 non-null   object\n",
      " 3   SpecGroupCode           8812 non-null   object\n",
      " 4   SpecTypeDescription     8812 non-null   object\n",
      " 5   AuthorisationGroupCode  8812 non-null   object\n",
      " 6   SpecTypeCode            8812 non-null   object\n",
      "dtypes: int64(1), object(6)\n",
      "memory usage: 482.0+ KB\n"
     ]
    }
   ],
   "source": [
    "filtered_df_spec.info()"
   ]
  },
  {
   "cell_type": "code",
   "execution_count": 72,
   "id": "17081364",
   "metadata": {},
   "outputs": [],
   "source": [
    "tables = {\n",
    "    \"Specifications\": filtered_df_spec,\n",
    "    \"RecipeExplosion\": df_explo_filtered\n",
    "}"
   ]
  },
  {
   "cell_type": "code",
   "execution_count": null,
   "id": "9a31901a",
   "metadata": {},
   "outputs": [],
   "source": [
    "from data_processing.vectors import build_retriever_system\n",
    "retrievers = build_retriever_system(ENGINE, data)"
   ]
  },
  {
   "cell_type": "code",
   "execution_count": 5,
   "id": "d99051df",
   "metadata": {},
   "outputs": [],
   "source": [
    "rules_retriever, schema_desc_retriever, table_info_retriever, table_scheme_retriever, column_value_retriever = retrievers\n",
    "query = \"Give me all recepes with jam and butter in it\""
   ]
  },
  {
   "cell_type": "code",
   "execution_count": 6,
   "id": "35554d92",
   "metadata": {},
   "outputs": [
    {
     "name": "stdout",
     "output_type": "stream",
     "text": [
      "### Business Rules & Formulas:\n",
      "Table Relationship: Connects a final product recipe to its list of ingredients (Bill of Materials). (recipes.RECIPEKEY -> line_items.RECIPEKEY)\n",
      "\n",
      "Table Relationship: Connects an ingredient in a recipe to its detailed chemical composition/formula. (line_items.SPECIFICATIONNR -> specifications.SPECIFICATIONNR)\n",
      "\n",
      "Golden Formula 'Absolute Component Mass Calculation': To calculate this, use the SQL formula `SUM(li.ITEMQUANTITY * s.AVG_VAL / 100.0)`. Notes: Ensure that specifications.UOM is '%' before applying. If it is 'PPB' or 'PPM', convert to percent first.\n"
     ]
    }
   ],
   "source": [
    "nodes = rules_retriever.retrieve(query)\n",
    "text = \"### Business Rules & Formulas:\\n\" + \"\\n\\n\".join([n.get_content() for n in nodes])\n",
    "print(text)"
   ]
  },
  {
   "cell_type": "code",
   "execution_count": 7,
   "id": "984b53cd",
   "metadata": {},
   "outputs": [
    {
     "name": "stdout",
     "output_type": "stream",
     "text": [
      "### Relevant Table & Column and their Schemas:\n",
      "Table: line_items. Description: The Bill of Materials (BOM). It lists all ingredients and their quantities for a specific recipe.\n",
      "Columns:\n",
      "\n",
      "  - ITEMNR (INTEGER)\n",
      "  - ITEMTYPE (TEXT)\n",
      "  - ITEMTYPE_DESCR (TEXT)\n",
      "  - SPECIFICATIONNR (INTEGER)\n",
      "  - SPECDESCRIPTION (TEXT)\n",
      "  - ITEMMATERIAL (FLOAT)\n",
      "  - MATERIALDESCRIPTION (FLOAT)\n",
      "  - ITEMQUANTITY (FLOAT)\n",
      "  - ITEMUOM (TEXT)\n",
      "  - COMPTYPE (TEXT)\n",
      "  - COMPTYPE_DESCR (TEXT)\n",
      "  - ITEMPMLCOLOR (TEXT)\n",
      "  - SOURCEPLANT (FLOAT)\n",
      "  - YIELD (FLOAT)\n",
      "  - MASS_PER_POIN_PERCENT (FLOAT)\n",
      "  - MANUAL_PRICE (FLOAT)\n",
      "  - MANUAL_PRICE_CURRENCY (TEXT)\n",
      "  - QTYLOW (FLOAT)\n",
      "  - QTYHIGH (FLOAT)\n",
      "  - EXCEPTIONVALUE (FLOAT)\n",
      "  - SCRAPFACTOR (FLOAT)\n",
      "  - ABSOLUTEMASS (FLOAT)\n",
      "  - OVERRUNSCRAP (FLOAT)\n",
      "  - ZEROSIGN (FLOAT)\n",
      "  - CALCULATEQTY (TEXT)\n",
      "  - REQACTIVE (FLOAT)\n",
      "  - PERCENTAGEACTIVE (FLOAT)\n",
      "  - ACTCOMPIDENTIFIER (FLOAT)\n",
      "  - NOTE (FLOAT)\n",
      "  - RESONFORUSE (TEXT)\n",
      "  - OVERALLPMLCOLOR (TEXT)\n",
      "  - PROPINTVALUE (TEXT)\n",
      "  - ISIDPARTNO (TEXT)\n",
      "  - TARGETQTY (FLOAT)\n",
      "  - TARGETQTYUOM (FLOAT)\n",
      "  - INPUTQTY (FLOAT)\n",
      "  - INPUTQTYUOM (FLOAT)\n",
      "  - VALIDITYAREA (FLOAT)\n",
      "  - SRCSTAGEDESCR (FLOAT)\n",
      "  - BESTPRACTICE (TEXT)\n",
      "  - CFDRECIPE (FLOAT)\n",
      "  - CUSTOMEXPLRECIPE (FLOAT)\n",
      "  - RELATIONSHIPLINK (FLOAT)\n",
      "  - CALCMODE (TEXT)\n",
      "  - BALANCINGITEM (TEXT)\n",
      "  - CONVERSIONQTY (FLOAT)\n",
      "  - QTYFACTOR (FLOAT)\n",
      "  - CONVERSIONUOM (FLOAT)\n",
      "  - RECIPE_BOMPATH (FLOAT)\n",
      "  - RECIPEKEY (TEXT)\n",
      "\n",
      "Table: recipes. Description: Master list of final products or recipes. This is the highest level in the product hierarchy.\n",
      "Columns:\n",
      "\n",
      "  - RECIPEKEY (TEXT)\n",
      "  - RECIPEDESCRIPTION (TEXT)\n",
      "  - RECIPETYPE (TEXT)\n",
      "  - RECIPESTATUS (INTEGER)\n",
      "  - RECIPEAUTHGROUP (TEXT)\n",
      "  - HEADERMATERIAL (FLOAT)\n",
      "  - RECIPEPLANT (FLOAT)\n",
      "  - PREFERREDRECIPE (FLOAT)\n",
      "  - PREFERREDVALIDFROM (FLOAT)\n",
      "  - PREFERREDVALIDTO (FLOAT)\n",
      "  - CREATEDON (INTEGER)\n",
      "  - CHANGEDON (INTEGER)\n",
      "  - VALIDFROM (INTEGER)\n",
      "  - VALIDTO (INTEGER)\n",
      "  - RECIPEVERSIONLIST (TEXT)\n",
      "\n",
      "Table: specifications. Description: The detailed chemical/substance composition for every single ingredient. An ingredient can be a mix of multiple components.\n",
      "Columns:\n",
      "\n",
      "  - COMPONENT (TEXT)\n",
      "  - COMPDESC (TEXT)\n",
      "  - COMPROOT (INTEGER)\n",
      "  - COMPCAT (TEXT)\n",
      "  - VALID_FROM (INTEGER)\n",
      "  - VALID_TO (INTEGER)\n",
      "  - CHANG_NO (FLOAT)\n",
      "  - CREATED_ON (INTEGER)\n",
      "  - CREATED_BY (TEXT)\n",
      "  - CHANGD_ON (FLOAT)\n",
      "  - CHANGD_BY (TEXT)\n",
      "  - DATAORIGIN (TEXT)\n",
      "  - SEQUENCE (INTEGER)\n",
      "  - AVG_VAL (TEXT)\n",
      "  - UOM (TEXT)\n",
      "  - SPECIFICATIONNR (INTEGER)\n"
     ]
    }
   ],
   "source": [
    "nodes = schema_desc_retriever.retrieve(query)\n",
    "text = \"### Relevant Table & Column and their Schemas:\\n\" + \"\\n\\n\".join([n.get_content() for n in nodes])\n",
    "print(text)"
   ]
  },
  {
   "cell_type": "code",
   "execution_count": 8,
   "id": "8bb6c2d1",
   "metadata": {},
   "outputs": [
    {
     "name": "stdout",
     "output_type": "stream",
     "text": [
      "### Relevant Table & Column and their Schemas:\n",
      "\n",
      "\n",
      "\n",
      "\n",
      "\n"
     ]
    }
   ],
   "source": [
    "nodes = table_info_retriever.retrieve(query)\n",
    "text = \"### Relevant Table & Column and their Schemas:\\n\" + \"\\n\\n\".join([n.get_content() for n in nodes])\n",
    "print(text)"
   ]
  },
  {
   "cell_type": "code",
   "execution_count": 9,
   "id": "ab13e521",
   "metadata": {},
   "outputs": [
    {
     "name": "stdout",
     "output_type": "stream",
     "text": [
      "### Relevant Table & Column and their Schemas:\n",
      "\n",
      "\n",
      "\n",
      "\n",
      "\n"
     ]
    }
   ],
   "source": [
    "nodes = table_scheme_retriever.retrieve(query)\n",
    "text = \"### Relevant Table & Column and their Schemas:\\n\" + \"\\n\\n\".join([n.get_content() for n in nodes])\n",
    "print(text)"
   ]
  },
  {
   "cell_type": "code",
   "execution_count": 10,
   "id": "d9fda841",
   "metadata": {},
   "outputs": [
    {
     "name": "stdout",
     "output_type": "stream",
     "text": [
      "### Relevant Column and their sample Values:\n",
      "The commercial or common name of the final product. Use this for filtering by name. Example values for column 'RECIPEDESCRIPTION' in table 'recipes': Knorrox Beef Sodium Reduction, CAS T&C Potato & Leek, BLEND ROYCO BEEF CUBE, Knorr Italian White Sauce without Annato & Cheese Powder, Kissan Tomato Paste VIP, Kissan Tomato Puree VIP, ROYCO MCHUZI MIX BEEF BLEND, KNORR soup chicken flavor bdz 400g CUC, KNORR BASE CHICKEN 095 DARWIN, KNORR CHEF'S DAL MASALA with MAXAROME\n",
      "\n",
      "The human-readable name of the ingredient used in the recipe. Example values for column 'SPECDESCRIPTION' in table 'line_items': Knx Beef Cube, Fat Krema, Fat hard Vemor 50, Caramel Liquid ammonia E150c HK EBC 48000, Col Ponceau 4R PSU 0730 Hexacol, Potable Water, Salt Blended (MEDIUM) tuff Bags, Monosodiumglutamate Regular 24-60 mesh, I & G Nucleotides Kosher Parev 20kg cart, Ground Thyme\n",
      "\n",
      "Example values for column 'RECIPEVERSIONLIST' in table 'recipes': []\n",
      "\n",
      "Example values for column 'RECIPEAUTHGROUP' in table 'recipes': ZSVR, ZICR\n",
      "\n",
      "Links a row to a specific recipe in the 'recipes' table. Example values for column 'RECIPEKEY' in table 'line_items': 200000029428/005/000, 200000029601/003/000, 200000043297/005/000, 200000049981/003/000, 200000071789/000/000, 200000072834/000/000, 200000072992/000/000, 200000073225/000/000, 200000079114/000/000, 200000079384/003/000\n"
     ]
    }
   ],
   "source": [
    "nodes = column_value_retriever.retrieve(query)\n",
    "text = \"### Relevant Column and their sample Values:\\n\" + \"\\n\\n\".join([n.get_content() for n in nodes])\n",
    "print(text)\n",
    "            "
   ]
  },
  {
   "cell_type": "code",
   "execution_count": 27,
   "id": "935e6f6c",
   "metadata": {},
   "outputs": [],
   "source": [
    "import sqlite3\n",
    "from typing import Union\n",
    "import pandas as pd\n",
    "def execute_sql(query: str) -> Union[pd.DataFrame, str]:\n",
    "    \"\"\"Executes a SQL query against the SQLite database.\"\"\"\n",
    "    if not query:\n",
    "        return \"Cannot execute an empty query.\"\n",
    "    try:\n",
    "        DB_URL = os.path.join(os.getcwd(), 'uploaded_data.db')\n",
    "        with sqlite3.connect(DB_URL) as conn:\n",
    "            conn: sqlite3.Connection\n",
    "            df: pd.DataFrame = pd.read_sql_query(query, conn)\n",
    "            if df.empty:\n",
    "                return \"No data found matching your criteria.\"\n",
    "            return df\n",
    "    except Exception as e:\n",
    "        return f\"SQL Execution Error: {e} on query:\\n---\\n{query}\\n---\""
   ]
  },
  {
   "cell_type": "code",
   "execution_count": null,
   "id": "be83461c",
   "metadata": {},
   "outputs": [
    {
     "name": "stdout",
     "output_type": "stream",
     "text": [
      "              RECIPEKEY                                  RECIPEDESCRIPTION  \\\n",
      "0  200000029428/005/000                      Knorrox Beef Sodium Reduction   \n",
      "1  200000029601/003/000                              CAS T&C Potato & Leek   \n",
      "2  200000043297/005/000                              BLEND ROYCO BEEF CUBE   \n",
      "3  200000049981/003/000  Knorr Italian White Sauce without Annato & Che...   \n",
      "4  200000071789/000/000                            Kissan Tomato Paste VIP   \n",
      "\n",
      "       RECIPETYPE  RECIPESTATUS RECIPEAUTHGROUP HEADERMATERIAL RECIPEPLANT  \\\n",
      "0  Z_EXPERIMENTAL           610            ZSVR           None        None   \n",
      "1  Z_EXPERIMENTAL           610            ZSVR           None        None   \n",
      "2  Z_EXPERIMENTAL           610            ZSVR           None        None   \n",
      "3  Z_EXPERIMENTAL           510            ZSVR           None        None   \n",
      "4  Z_EXPERIMENTAL           510            ZSVR           None        None   \n",
      "\n",
      "  PREFERREDRECIPE PREFERREDVALIDFROM PREFERREDVALIDTO       CREATEDON  \\\n",
      "0            None               None             None  20150212093427   \n",
      "1            None               None             None  20160929064910   \n",
      "2            None               None             None  20150625082656   \n",
      "3            None               None             None  20160121114402   \n",
      "4            None               None             None  20141119100019   \n",
      "\n",
      "        CHANGEDON  VALIDFROM   VALIDTO RECIPEVERSIONLIST  \n",
      "0  20150625121714   20150212  99991231                []  \n",
      "1  20160929092742   20160929  99991231                []  \n",
      "2  20150625085221   20150625  99991231                []  \n",
      "3  20160121124841   20160121  99991231                []  \n",
      "4  20141217115002   20141119  99991231                []  \n"
     ]
    }
   ],
   "source": [
    "sql_query = \"\"\"SELECT * FROM PML_OUTPUT_recipes LIMIT 5;\"\"\"\n",
    "df = execute_sql(sql_query)\n",
    "print(df)"
   ]
  },
  {
   "cell_type": "code",
   "execution_count": 35,
   "id": "7d6a413c",
   "metadata": {},
   "outputs": [
    {
     "data": {
      "text/plain": [
       "('PML_OUTPUT/line_items', '.csv')"
      ]
     },
     "execution_count": 35,
     "metadata": {},
     "output_type": "execute_result"
    }
   ],
   "source": [
    "import re\n",
    "name = \"PML_OUTPUT/line_items.csv\"\n",
    "# re.sub(r'\\W+', '_', str(name)).strip('_') \n",
    "import os\n",
    "os.path.splitext(name)"
   ]
  },
  {
   "cell_type": "code",
   "execution_count": 12,
   "id": "c6552e55",
   "metadata": {},
   "outputs": [
    {
     "name": "stderr",
     "output_type": "stream",
     "text": [
      "c:\\Users\\ShyamSunderIyer\\miniconda3\\Lib\\site-packages\\tqdm\\auto.py:21: TqdmWarning: IProgress not found. Please update jupyter and ipywidgets. See https://ipywidgets.readthedocs.io/en/stable/user_install.html\n",
      "  from .autonotebook import tqdm as notebook_tqdm\n"
     ]
    },
    {
     "name": "stdout",
     "output_type": "stream",
     "text": [
      "[-0.06439797580242157, 0.0290534570813179, 0.008177057839930058, -0.006123151630163193, 0.011226010508835316, 0.006352214142680168, 0.07471279054880142, 0.015220386907458305, 0.03067406453192234, -0.035817183554172516, -0.020257389172911644, -0.029482632875442505, 0.02826531045138836, 0.03605448454618454, 0.004387761000543833, -0.016454221680760384, 0.0022171312011778355, -0.06411594897508621, -0.06320693343877792, 0.028692586347460747, 0.07384111732244492, -0.007364855147898197, -0.009883039630949497, -0.013002180494368076, 0.0011464889394119382, 0.0426669679582119, 0.022866519168019295, -0.03134549409151077, -0.019507452845573425, -0.08184880018234253, 0.011755703948438168, -0.033044617623090744, 0.02787681110203266, -0.005916205700486898, 0.02138533815741539, 0.017969202250242233, -0.06019717827439308, -0.017807118594646454, -0.045378461480140686, -0.021133672446012497, 0.05267377197742462, 0.011488471180200577, -0.028552083298563957, 0.004141320940107107, 0.02155274897813797, 0.021670611575245857, -0.021728534251451492, 0.00013190103345550597, 0.023772766813635826, 0.008448170498013496, -0.03806939721107483, -0.046701379120349884, -0.0012173313880339265, -0.061656154692173004, 0.0008446199935860932, 0.03254074230790138, 0.033282458782196045, 0.0018839029362425208, 0.04258463531732559, 0.014037604443728924, -0.0069176554679870605, 0.03569993004202843, -0.14331872761249542, 0.0286970604211092, 0.023565037176012993, 0.005384227726608515, -0.023974189534783363, -0.0037547731772065163, 0.02230156771838665, 0.05947233736515045, 0.05845007672905922, -0.0067068468779325485, 0.037526920437812805, 0.09006638824939728, -0.04699300229549408, -0.006063829641789198, 0.0012439569691196084, -0.027399159967899323, 0.028309080749750137, -0.005580142606049776, -0.011054543778300285, -0.040644221007823944, 0.02234930731356144, 0.02454366721212864, -0.03332023322582245, -0.05533386021852493, -0.029582418501377106, 0.060798466205596924, 0.0269243773072958, 0.01641145348548889, -0.01811598427593708, -0.03182537108659744, -0.040761105716228485, 0.017730047926306725, -0.015301513485610485, -0.04436596855521202, -0.0036090712528675795, -0.032022397965192795, 0.017164014279842377, 0.41591551899909973, -0.037955109030008316, 0.028658762574195862, 0.020845312625169754, -0.0624987818300724, -0.02481519617140293, -0.002681243233382702, 0.039472226053476334, -0.03347330912947655, -0.0417606495320797, -0.04240832477807999, -0.006793867330998182, -0.01808047480881214, 0.034260861575603485, 0.00818841252475977, -0.03650978207588196, 0.059479113668203354, 0.04992057383060455, -0.009407004341483116, -0.035857874900102615, -0.010931136086583138, 0.04947984963655472, 0.031051894649863243, -0.05121253803372383, -0.06693214178085327, 0.05017450079321861, -0.013207722455263138, 0.103944793343544, 0.0593687929213047, 0.008795146830379963, -0.030431097373366356, 0.005506120156496763, -0.0758381113409996, -0.01707940548658371, 0.030713621526956558, -0.05164017900824547, -0.0236147940158844, 0.025179658085107803, 0.03819792717695236, 0.019842028617858887, 0.009824910201132298, -0.044706158339977264, -0.08242638409137726, -0.03379452973604202, -0.03944670781493187, -0.05825285613536835, 0.06110750138759613, -0.012388701550662518, 0.02549252286553383, -0.010969013907015324, -0.0350712314248085, 0.03172804415225983, 0.06005728244781494, 0.033275824040174484, -0.08831112086772919, -0.01733550988137722, 0.008198835887014866, 0.007591916248202324, -0.03512253612279892, -0.00041730504017323256, 0.024062572047114372, 0.03732052445411682, 0.02657395415008068, -0.03623811528086662, 0.04384208843111992, 0.028037020936608315, -0.012785528786480427, -0.020382454618811607, -0.026182791218161583, 0.07665443420410156, -0.05224873498082161, 0.07352045923471451, 0.0359003059566021, -0.046061862260103226, -0.010014403611421585, -0.030620122328400612, -0.00632284302264452, 0.02151023969054222, 0.05057942122220993, -0.0017896215431392193, 0.005167120601981878, 0.014570117928087711, 0.018033988773822784, -0.04321623966097832, 0.07740846276283264, 0.00844698678702116, -0.0018526745261624455, -0.03471962735056877, -0.04332273080945015, 0.03233207017183304, -0.027315612882375717, 0.006345983594655991, 0.080904521048069, -0.06889105588197708, 0.0437072291970253, -0.06441319733858109, -0.028047405183315277, 0.034936536103487015, -0.02501594088971615, -0.04725992679595947, 0.011586843058466911, -0.006325837690383196, -0.015189838595688343, 0.0189127828925848, 0.04712821915745735, 0.06619610637426376, 0.014020465314388275, 0.013947352766990662, -0.0015020377468317747, 0.0231343861669302, 0.023526977747678757, -0.014476353302598, -0.05177813395857811, 0.021588647738099098, 0.012270860373973846, 0.013075489550828934, -0.0897122323513031, -0.007436251267790794, 0.011123737320303917, 0.009663891978561878, 0.04937048256397247, -0.058377955108881, -0.0017393414163962007, 0.08732578903436661, -0.3285786807537079, 0.010836461558938026, 0.024039223790168762, 0.01051818672567606, 0.07687298208475113, -0.0009171117562800646, 0.009292823262512684, 0.015920426696538925, 0.034690454602241516, -0.047090016305446625, -0.02034872956573963, -0.03114556334912777, 0.03374491631984711, -0.03191976994276047, 0.03746975213289261, -0.029549570754170418, -0.007353766355663538, 0.0019940021447837353, 0.04496997222304344, 0.0403645895421505, 0.01978626288473606, 0.00797939207404852, 0.0014583127340301871, -0.053475216031074524, 0.03320333734154701, -0.03600819408893585, 0.19861294329166412, 0.08692126721143723, 0.0031650217715650797, -0.03813015669584274, 0.04540259391069412, -0.009516095742583275, 0.00396627327427268, -0.12039497494697571, 0.06776951998472214, 0.03728910908102989, -0.06066322326660156, 0.022120824083685875, -0.036839526146650314, -0.012767426669597626, 0.01524280570447445, 0.0266985185444355, -0.011126414872705936, -0.05393655225634575, -0.02587304636836052, -0.050497736781835556, -0.01566210389137268, 0.010870368219912052, -0.08245382457971573, 0.053547658026218414, 0.023128971457481384, -0.07468712329864502, -0.02533745765686035, 0.001081809401512146, 0.043618518859148026, -0.047012846916913986, -0.10171796381473541, -0.06081214174628258, -0.03883962333202362, -0.016335556283593178, 0.020387323573231697, 0.10775861144065857, 0.04189091548323631, 0.015215747058391571, 0.024890951812267303, 0.02548312395811081, 0.03724334016442299, -0.061109188944101334, 0.02755790948867798, 0.03443198278546333, -0.023113548755645752, 0.03240875527262688, -0.017004629597067833, -0.04785837605595589, 0.005146607290953398, 0.019660405814647675, -0.025061016902327538, -0.010095160454511642, -0.0037297809030860662, -0.012677447870373726, 0.06454416364431381, 0.022357195615768433, -0.02040528692305088, -0.012425466440618038, 0.043562475591897964, 0.043310534209012985, 0.0038294752594083548, 0.005700393114238977, 0.06415626406669617, -0.010263166390359402, 0.0030041509307920933, 0.02657833881676197, -0.025667065754532814, -0.052113596349954605, -0.01765955239534378, -0.05044538155198097, -0.3092367351055145, -0.008204109966754913, -0.030632557347416878, 0.028805576264858246, -0.014824910089373589, 0.00574894854798913, 0.0006612723809666932, 0.030502351000905037, -0.06719156354665756, 0.047767844051122665, -0.00019414318376220763, 0.03619811683893204, 0.024189647287130356, -0.02276441641151905, -0.018148785457015038, 0.011995394714176655, 0.05323972553014755, -0.03517928719520569, 0.03305390477180481, -0.07682253420352936, 0.020621653646230698, 0.01700020022690296, 0.12087753415107727, -0.04758328199386597, 0.06685488671064377, 0.010173198767006397, 0.03437597304582596, -0.014521688222885132, 0.06547475606203079, -0.01928998902440071, 0.03336174413561821, -0.01691029965877533, 0.03779207542538643, 0.0013532033190131187, -0.009822912514209747, -0.004661207552999258, 0.004668479319661856, 0.012165002524852753, 0.04130017012357712, 0.016670066863298416, -0.0033067057374864817, -0.047517746686935425, -0.028048701584339142, -0.008536798879504204, 0.070794016122818, 0.021808091551065445, 0.03523903340101242, -0.05515448376536369, -0.04528317600488663, -0.023656824603676796, 0.0029029727447777987, -0.04610868915915489, 0.03348859027028084, 0.00032212128280662, 0.03457052260637283, 0.009050111286342144, -0.020942414179444313, -0.04292667284607887, 0.037910107523202896, -0.0560145266354084, -0.05237899720668793, -0.02416723594069481, 0.06015962362289429, 0.06405510008335114, -0.0174625962972641]\n"
     ]
    }
   ],
   "source": [
    "from llama_index.embeddings.huggingface import HuggingFaceEmbedding\n",
    "embed_model = HuggingFaceEmbedding(model_name=\"BAAI/bge-small-en-v1.5\")\n",
    "embeddings = embed_model.get_text_embedding(\"This is a test sentence.\")\n",
    "print(embeddings)"
   ]
  },
  {
   "cell_type": "code",
   "execution_count": 26,
   "id": "e0cdd218",
   "metadata": {},
   "outputs": [
    {
     "name": "stdout",
     "output_type": "stream",
     "text": [
      "File loaded successfully!\n",
      "{'title': 'Business Schema for Recipe & Manufacturing Database', 'description': 'This file is the single source of truth for the AI agent, defining business logic for accurate SQL queries.', 'relationships': [{'from_table': 'RecipeExplosion', 'from_column': 'CUCSpecCode', 'to_table': 'Specifications', 'to_column': 'SpecCode', 'description': 'Connects a recipe from the RecipeExplosion table to its detailed description and metadata in the Specifications table.'}, {'from_table': 'RecipeExplosion', 'from_column': 'INGSpecCode', 'to_table': 'Specifications', 'to_column': 'SpecCode', 'description': 'Connects an ingredient from the RecipeExplosion table to its detailed description and metadata in the Specifications table.'}], 'golden_formulas': [{'name': 'Absolute Component Mass Calculation', 'description': \"To calculate the absolute mass of a specific substance (e.g., 'Salt') in a final recipe, you MUST use this formula. This requires joining all three tables.\", 'formula': 'SUM(li.ITEMQUANTITY * s.AVG_VAL / 100.0)', 'notes': \"Ensure that specifications.UOM is '%' before applying. If it is 'PPB' or 'PPM', convert to percent first.\"}, {'name': 'Definition of the values in SpecTypeCode', 'description': 'A specific code that provides a granular classification for a product or ingredient.', 'formula': {'Ingrediant NonFoods': 'The specification is for an ingredient used in non-food products, such as personal or home care items.', 'Ingrediant Foods': 'The specification is for an ingredient used in food products.', 'PC': 'A code for Personal Care products.', 'HC': 'A code for Home Care products.', 'BW': \"A code for a specific type of product, possibly 'Beauty & Wellbeing' or a similar business category.\", 'FOODS': 'A general classification for food products.', 'ICE': 'A code for products related to ice cream or frozen desserts.'}, 'notes': ''}, {'name': 'Definition of the values in CUCPlantBUCode', 'description': 'This column contains a code representing the Business Unit for the manufacturing plant. The codes are typically abbreviations for specific geographical regions or business segments.', 'notes': '', 'formula': {'EU': 'Europe', 'SA': 'South Asia', 'GCEA': 'Greater China & East Asia', 'LATAM': 'Latin America', 'AMET': 'Africa, Middle East & Turkey', 'None': 'No assigned Business Unit'}}, {'name': 'Definition of values in AuthorisationGroupCode', 'description': 'This table will show in which group this recipe belongs to.', 'notes': '', 'formula': {'ZFOD': 'Food', 'ZHPC': 'Home and personal care', 'ZBVG': 'Beverage', 'ZFNT': 'Functional nutrition', 'ZICR': 'Ice-cream', 'ZPLI': 'Pepsi Lipton', 'ZPMT': 'Plant based meat', 'ZSND': 'Dressings', 'ZSVR': 'Savoury', 'ZTCO': 'Tea', 'ZDEO': 'Deodorants', 'ZHRC': 'Haircare', 'ZHSC': 'Home and hygiene', 'ZHWN': 'Health and wellness', 'ZLRY': 'Fabric Care', 'ZORC': 'Oral care', 'ZSCL': 'Skin cleansing', 'ZSCR': 'Skin care'}}, {'name': 'Types of data in the column SpecGroupCode in Specifications', 'description': 'These are the code to indicate in which the ingredients belong to', 'notes': '', 'formula': {'ING': 'Ingredent', 'CUC': 'Consumer Unit Content'}}], 'table_descriptions': {'Specifications': \"This table serves as the master catalog for all product entities within the system. It contains both finished recipes, identified by a SpecGroupCode of 'CUC', and raw ingredients, identified by a SpecGroupCode of 'ING'. It provides a unique identifier (SpecCode), a detailed description, and other metadata for each item.\", 'RecipeExplosion': 'This table defines the hierarchical relationships and composition of products. It links recipes to their constituent ingredients using CUCSpecCode and INGSpecCode. The table quantifies this relationship by specifying the OverallPercentContribution and QuantityContribution of each ingredient required for a particular recipe.'}, 'column_descriptions': {'Specifications': {'SpecCode': 'A unique numerical identifier for a product specification, ingredient, or recipe.', 'SpecDescription': 'A human-readable name of the product, often including details about its type and purpose.', 'SpecStatusDescription': \"This column indicates the current lifecycle status of a product specification. It tracks the progress from 'In Process' and 'In Review' to an active 'Released' state, and finally to 'Obsolete' when it is no longer in use.\", 'SpecGroupCode': \"A high-level code that groups similar product specifications together. It has two possible values: 'ING' for ingredients and 'CUC' for consumer unit content or recipe\", 'SpecTypeDescription': \"A detailed description of the specification's type, like 'Fragrances' or 'Dried vegetables' 'Fragrances', 'Flavours', etc\", 'AuthorisationGroupCode': \"A code that categorizes the product into a specific business or product family, such as 'ZHPC' for home and personal care or 'ZFOD' for food.\", 'SpecTypeCode': \"A specific code that provides a granular classification for the item, such as 'Ingrediant Foods' or 'Ingrediant NonFoods'.\"}, 'RecipeExplosion': {'CUCSpecCode': 'A unique identifier for a consumer unit content or recipe. This code represents a component or sub-assembly within a final product.', 'CUCRecipeCode': 'The specific recipe code for the consumer unit component. It often includes version details in its format (e.g., /002/003).', 'CUCPlantOwnershipFlag': \"A flag indicating the ownership status of the plant. The two possible values are 'UL' for Unilever-owned plants and 'CM' for contract manufacturers.\", 'CUCPlantCountryName': 'The full name of the country where the plant is located.', 'CUCPlantBUCode': 'The code representing the Business Unit (BU) for the manufacturing plant. The detailed name is mentioned in the column `CUCPlantBUName`.', 'CUCPlantBUName': 'The full name of the Business Unit (BU) that the plant belongs to.', 'INGSpecCode': 'A unique identifier for an ingredient or raw material used in the recipe.', 'Ing2CUC_PercentageContribution': 'The percentage contribution of a specific ingredient to the total composition of the consumer unit content recipe.', 'Ing2CUC_QuantityContribution': 'The quantity or amount of a specific ingredient required for the recipe.'}}}\n"
     ]
    }
   ],
   "source": [
    "import json\n",
    "with open(\"schema_description.json\", \"r\") as file:\n",
    "    data = json.load(file)\n",
    "print(\"File loaded successfully!\")\n",
    "print(data)"
   ]
  }
 ],
 "metadata": {
  "kernelspec": {
   "display_name": "base",
   "language": "python",
   "name": "python3"
  },
  "language_info": {
   "codemirror_mode": {
    "name": "ipython",
    "version": 3
   },
   "file_extension": ".py",
   "mimetype": "text/x-python",
   "name": "python",
   "nbconvert_exporter": "python",
   "pygments_lexer": "ipython3",
   "version": "3.13.5"
  }
 },
 "nbformat": 4,
 "nbformat_minor": 5
}
